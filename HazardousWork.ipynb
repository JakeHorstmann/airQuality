{
 "cells": [
  {
   "cell_type": "code",
   "execution_count": 2,
   "id": "f53ae18f",
   "metadata": {},
   "outputs": [],
   "source": [
    "import pandas as pd\n",
    "import numpy as np\n",
    "import matplotlib.pyplot as plt\n",
    "import warnings\n",
    "from pandas.core.common import SettingWithCopyWarning\n",
    "\n",
    "from airQualFunctions import *\n",
    "\n",
    "warnings.simplefilter(action=\"ignore\", category=SettingWithCopyWarning)"
   ]
  },
  {
   "cell_type": "code",
   "execution_count": 3,
   "id": "95b2aa12",
   "metadata": {},
   "outputs": [],
   "source": [
    "df = pd.read_csv(\"airquality_pm10_daily_summary.csv\")"
   ]
  },
  {
   "cell_type": "code",
   "execution_count": 4,
   "id": "1c329f6b",
   "metadata": {},
   "outputs": [],
   "source": [
    "hazardous = df.loc[df.aqi > 300]"
   ]
  },
  {
   "cell_type": "code",
   "execution_count": 5,
   "id": "c899f0df",
   "metadata": {},
   "outputs": [
    {
     "data": {
      "text/html": [
       "<div>\n",
       "<style scoped>\n",
       "    .dataframe tbody tr th:only-of-type {\n",
       "        vertical-align: middle;\n",
       "    }\n",
       "\n",
       "    .dataframe tbody tr th {\n",
       "        vertical-align: top;\n",
       "    }\n",
       "\n",
       "    .dataframe thead th {\n",
       "        text-align: right;\n",
       "    }\n",
       "</style>\n",
       "<table border=\"1\" class=\"dataframe\">\n",
       "  <thead>\n",
       "    <tr style=\"text-align: right;\">\n",
       "      <th></th>\n",
       "      <th>latitude</th>\n",
       "      <th>longitude</th>\n",
       "      <th>date_local</th>\n",
       "      <th>event_type</th>\n",
       "      <th>arithmetic_mean</th>\n",
       "      <th>aqi</th>\n",
       "      <th>state_name</th>\n",
       "      <th>county_name</th>\n",
       "    </tr>\n",
       "  </thead>\n",
       "  <tbody>\n",
       "    <tr>\n",
       "      <th>16793</th>\n",
       "      <td>37.360684</td>\n",
       "      <td>-118.330783</td>\n",
       "      <td>2019-11-25</td>\n",
       "      <td>None</td>\n",
       "      <td>449.0</td>\n",
       "      <td>331</td>\n",
       "      <td>California</td>\n",
       "      <td>Inyo</td>\n",
       "    </tr>\n",
       "    <tr>\n",
       "      <th>16794</th>\n",
       "      <td>36.233274</td>\n",
       "      <td>-119.766212</td>\n",
       "      <td>2019-11-25</td>\n",
       "      <td>Included</td>\n",
       "      <td>469.0</td>\n",
       "      <td>356</td>\n",
       "      <td>California</td>\n",
       "      <td>Kings</td>\n",
       "    </tr>\n",
       "    <tr>\n",
       "      <th>29343</th>\n",
       "      <td>35.385574</td>\n",
       "      <td>-119.015009</td>\n",
       "      <td>2019-10-30</td>\n",
       "      <td>None</td>\n",
       "      <td>652.0</td>\n",
       "      <td>548</td>\n",
       "      <td>California</td>\n",
       "      <td>Kern</td>\n",
       "    </tr>\n",
       "    <tr>\n",
       "      <th>30514</th>\n",
       "      <td>36.315670</td>\n",
       "      <td>-119.643447</td>\n",
       "      <td>2019-10-27</td>\n",
       "      <td>None</td>\n",
       "      <td>551.0</td>\n",
       "      <td>447</td>\n",
       "      <td>California</td>\n",
       "      <td>Kings</td>\n",
       "    </tr>\n",
       "    <tr>\n",
       "      <th>30558</th>\n",
       "      <td>36.102244</td>\n",
       "      <td>-119.565650</td>\n",
       "      <td>2019-10-27</td>\n",
       "      <td>None</td>\n",
       "      <td>549.0</td>\n",
       "      <td>445</td>\n",
       "      <td>California</td>\n",
       "      <td>Kings</td>\n",
       "    </tr>\n",
       "  </tbody>\n",
       "</table>\n",
       "</div>"
      ],
      "text/plain": [
       "        latitude   longitude  date_local event_type  arithmetic_mean  aqi  \\\n",
       "16793  37.360684 -118.330783  2019-11-25       None            449.0  331   \n",
       "16794  36.233274 -119.766212  2019-11-25   Included            469.0  356   \n",
       "29343  35.385574 -119.015009  2019-10-30       None            652.0  548   \n",
       "30514  36.315670 -119.643447  2019-10-27       None            551.0  447   \n",
       "30558  36.102244 -119.565650  2019-10-27       None            549.0  445   \n",
       "\n",
       "       state_name county_name  \n",
       "16793  California        Inyo  \n",
       "16794  California       Kings  \n",
       "29343  California        Kern  \n",
       "30514  California       Kings  \n",
       "30558  California       Kings  "
      ]
     },
     "execution_count": 5,
     "metadata": {},
     "output_type": "execute_result"
    }
   ],
   "source": [
    "hazardous.head()"
   ]
  },
  {
   "cell_type": "code",
   "execution_count": 11,
   "id": "7ad625e4",
   "metadata": {},
   "outputs": [
    {
     "data": {
      "text/plain": [
       "state_name\n",
       "Alaska                 9\n",
       "Arizona              218\n",
       "California           826\n",
       "Colorado              10\n",
       "Country Of Mexico     76\n",
       "Georgia                1\n",
       "Idaho                  7\n",
       "Indiana                1\n",
       "Michigan               1\n",
       "Missouri              49\n",
       "Montana                1\n",
       "Nevada                37\n",
       "New Mexico           115\n",
       "Ohio                   1\n",
       "Pennsylvania           4\n",
       "South Dakota           2\n",
       "Texas                 23\n",
       "Utah                   1\n",
       "Washington            15\n",
       "Wyoming               15\n",
       "Name: latitude, dtype: int64"
      ]
     },
     "execution_count": 11,
     "metadata": {},
     "output_type": "execute_result"
    }
   ],
   "source": [
    "hazardous.groupby(by = \"state_name\").count().latitude\n",
    "\n",
    "# as anticipated, california tops the chart for unhealthy air (fires)"
   ]
  },
  {
   "cell_type": "code",
   "execution_count": null,
   "id": "57017177",
   "metadata": {},
   "outputs": [],
   "source": []
  },
  {
   "cell_type": "code",
   "execution_count": null,
   "id": "227f6b2c",
   "metadata": {},
   "outputs": [],
   "source": []
  }
 ],
 "metadata": {
  "kernelspec": {
   "display_name": "Python 3",
   "language": "python",
   "name": "python3"
  },
  "language_info": {
   "codemirror_mode": {
    "name": "ipython",
    "version": 3
   },
   "file_extension": ".py",
   "mimetype": "text/x-python",
   "name": "python",
   "nbconvert_exporter": "python",
   "pygments_lexer": "ipython3",
   "version": "3.8.8"
  }
 },
 "nbformat": 4,
 "nbformat_minor": 5
}
